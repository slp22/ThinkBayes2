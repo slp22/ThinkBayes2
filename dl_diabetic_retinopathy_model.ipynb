{
  "cells": [
    {
      "cell_type": "markdown",
      "metadata": {
        "id": "view-in-github",
        "colab_type": "text"
      },
      "source": [
        "<a href=\"https://colab.research.google.com/github/slp22/ThinkBayes2/blob/master/dl_diabetic_retinopathy_model.ipynb\" target=\"_parent\"><img src=\"https://colab.research.google.com/assets/colab-badge.svg\" alt=\"Open In Colab\"/></a>"
      ]
    },
    {
      "cell_type": "markdown",
      "metadata": {
        "id": "74975ac3"
      },
      "source": [
        "#### Deep Learning | Model\n",
        "\n",
        "# Diabetic Retinopathy<a id='top'></a> "
      ],
      "id": "74975ac3"
    },
    {
      "cell_type": "markdown",
      "source": [
        "## Imports"
      ],
      "metadata": {
        "id": "HYTw2GEqeY6s"
      },
      "id": "HYTw2GEqeY6s"
    },
    {
      "cell_type": "code",
      "execution_count": 10,
      "metadata": {
        "colab": {
          "base_uri": "https://localhost:8080/"
        },
        "id": "64179b94",
        "outputId": "d71ed7ee-1da7-4f4b-a68f-3f11a3930498"
      },
      "outputs": [
        {
          "output_type": "stream",
          "name": "stdout",
          "text": [
            "Populating the interactive namespace from numpy and matplotlib\n"
          ]
        },
        {
          "output_type": "stream",
          "name": "stderr",
          "text": [
            "/usr/local/lib/python3.7/dist-packages/IPython/core/magics/pylab.py:161: UserWarning: pylab import has clobbered these variables: ['random']\n",
            "`%matplotlib` prevents importing * from pylab and numpy\n",
            "  \"\\n`%matplotlib` prevents importing * from pylab and numpy\"\n"
          ]
        },
        {
          "output_type": "stream",
          "name": "stdout",
          "text": [
            "Num GPUs Available:  1\n",
            "Matplotlib version: 3.2.2\n",
            "Numpy version: 1.21.6\n",
            "Pandas version: 1.3.5\n",
            "TensorFlow version: 2.8.2\n",
            "Keras Version: 2.8.0\n",
            "Scikit-learn version: 1.0.2\n"
          ]
        }
      ],
      "source": [
        "import cv2\n",
        "import matplotlib.pyplot as plt\n",
        "import numpy as np\n",
        "import os, shutil\n",
        "import pandas as pd\n",
        "import pickle\n",
        "import PIL\n",
        "import random\n",
        "import seaborn as sns\n",
        "import shutil\n",
        "import sklearn as sk\n",
        "import tensorflow as tf\n",
        "import warnings\n",
        "import zipfile\n",
        "\n",
        "from glob import glob\n",
        "from tensorflow import keras\n",
        "from keras import backend as K\n",
        "from keras.layers import Conv2D, MaxPooling2D\n",
        "from keras.layers import Activation, Dropout, Flatten, Dense\n",
        "from keras.models import Sequential\n",
        "from keras.preprocessing import image as IMG\n",
        "from keras.preprocessing.image import ImageDataGenerator\n",
        "# from keras.utils import to_categorical\n",
        "\n",
        "from PIL import Image\n",
        "from sklearn.linear_model import LogisticRegression\n",
        "from sklearn.metrics import confusion_matrix, accuracy_score\n",
        "from sklearn.model_selection import train_test_split\n",
        "from tqdm import tqdm\n",
        "\n",
        "%pylab inline\n",
        "%matplotlib inline\n",
        "%config InlineBackend.figure_formats = ['retina']  # or svg\n",
        "pd.set_option('display.max_colwidth', None)\n",
        "sns.set(context='notebook', style='whitegrid')\n",
        "warnings.filterwarnings('ignore')\n",
        "\n",
        "print(\"Num GPUs Available: \", len(tf.config.list_physical_devices('GPU')))\n",
        "print(\"Matplotlib version:\", matplotlib.__version__)\n",
        "print(\"Numpy version:\", np.__version__)\n",
        "print(\"Pandas version:\", pd.__version__)\n",
        "print(\"TensorFlow version:\", tf.__version__)\n",
        "print(\"Keras Version:\", tf.keras.__version__)\n",
        "print(\"Scikit-learn version:\", sk.__version__)\n"
      ],
      "id": "64179b94"
    },
    {
      "cell_type": "markdown",
      "metadata": {
        "id": "d38894c8"
      },
      "source": [
        "## 1 | Dataset: [Diabetic Retinopathy Retinal Images](https://www.kaggle.com/datasets/sovitrath/diabetic-retinopathy-2015-data-colored-resized)"
      ],
      "id": "d38894c8"
    },
    {
      "cell_type": "markdown",
      "source": [
        "Code adapted from [github/PurpleGrace](https://github.com/PurpleGrace/Deep_Learning_Tools_Image_Classification/blob/main/code/1.EDA_Sample_Images.ipynb)\n"
      ],
      "metadata": {
        "id": "8Xw-Rr1OkC8R"
      },
      "id": "8Xw-Rr1OkC8R"
    },
    {
      "cell_type": "code",
      "source": [
        "from google.colab import files\n",
        "files.upload()"
      ],
      "metadata": {
        "colab": {
          "resources": {
            "http://localhost:8080/nbextensions/google.colab/files.js": {
              "data": "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",
              "ok": true,
              "headers": [
                [
                  "content-type",
                  "application/javascript"
                ]
              ],
              "status": 200,
              "status_text": ""
            }
          },
          "base_uri": "https://localhost:8080/",
          "height": 96
        },
        "id": "3uJyuCs9jkJ7",
        "outputId": "c2fe2491-76d1-4db7-eff7-175ad05a7dd2"
      },
      "id": "3uJyuCs9jkJ7",
      "execution_count": 13,
      "outputs": [
        {
          "output_type": "display_data",
          "data": {
            "text/plain": [
              "<IPython.core.display.HTML object>"
            ],
            "text/html": [
              "\n",
              "     <input type=\"file\" id=\"files-420d6a51-d8eb-4d0e-876b-a88c003d522c\" name=\"files[]\" multiple disabled\n",
              "        style=\"border:none\" />\n",
              "     <output id=\"result-420d6a51-d8eb-4d0e-876b-a88c003d522c\">\n",
              "      Upload widget is only available when the cell has been executed in the\n",
              "      current browser session. Please rerun this cell to enable.\n",
              "      </output>\n",
              "      <script src=\"/nbextensions/google.colab/files.js\"></script> "
            ]
          },
          "metadata": {}
        },
        {
          "output_type": "stream",
          "name": "stdout",
          "text": [
            "Saving kaggle.json to kaggle.json\n"
          ]
        },
        {
          "output_type": "execute_result",
          "data": {
            "text/plain": [
              "{'kaggle.json': b'{\"username\":\"sandralparedes\",\"key\":\"746c1c655d0796973a3d3552fbcc97a5\"}'}"
            ]
          },
          "metadata": {},
          "execution_count": 13
        }
      ]
    },
    {
      "cell_type": "code",
      "execution_count": 14,
      "metadata": {
        "colab": {
          "base_uri": "https://localhost:8080/"
        },
        "id": "GXLwZ2Vnn7ge",
        "outputId": "d6ce270b-11be-4b66-8ecf-acc09ab6376c"
      },
      "outputs": [
        {
          "output_type": "stream",
          "name": "stdout",
          "text": [
            "Mounted at /content/drive\n"
          ]
        }
      ],
      "source": [
        "from google.colab import drive\n",
        "drive.mount('/content/drive')"
      ],
      "id": "GXLwZ2Vnn7ge"
    },
    {
      "cell_type": "code",
      "source": [
        "! pwd\n",
        "! ls"
      ],
      "metadata": {
        "colab": {
          "base_uri": "https://localhost:8080/"
        },
        "id": "q0Zy3er5mJgR",
        "outputId": "5d5e4800-9534-4c5d-cf9f-0bc91a7150fb"
      },
      "id": "q0Zy3er5mJgR",
      "execution_count": 15,
      "outputs": [
        {
          "output_type": "stream",
          "name": "stdout",
          "text": [
            "/content\n",
            "drive  kaggle.json  sample_data\n"
          ]
        }
      ]
    },
    {
      "cell_type": "code",
      "source": [
        "os.environ['KAGGLE_CONFIG_DIR'] = \"/content\""
      ],
      "metadata": {
        "id": "As3njbbDmjAY"
      },
      "id": "As3njbbDmjAY",
      "execution_count": 17,
      "outputs": []
    },
    {
      "cell_type": "code",
      "source": [
        "! kaggle datasets download -d sovitrath/diabetic-retinopathy-2015-data-colored-resized"
      ],
      "metadata": {
        "colab": {
          "base_uri": "https://localhost:8080/"
        },
        "id": "jD2q1R_8movA",
        "outputId": "623c335f-f78a-42d0-92f0-3998ae5a47ba"
      },
      "id": "jD2q1R_8movA",
      "execution_count": 18,
      "outputs": [
        {
          "output_type": "stream",
          "name": "stdout",
          "text": [
            "Warning: Your Kaggle API key is readable by other users on this system! To fix this, you can run 'chmod 600 /content/kaggle.json'\n",
            "Downloading diabetic-retinopathy-2015-data-colored-resized.zip to /content\n",
            "100% 1.93G/1.94G [01:04<00:00, 49.4MB/s]\n",
            "100% 1.94G/1.94G [01:05<00:00, 32.0MB/s]\n"
          ]
        }
      ]
    },
    {
      "cell_type": "code",
      "source": [
        "# unzip kaggle file\n",
        "\n",
        "zip_ref = zipfile.ZipFile('diabetic-retinopathy-2015-data-colored-resized.zip', 'r') #Opens the zip file in read mode\n",
        "zip_ref.extractall('/tmp') #Extracts the files into the /tmp folder\n",
        "zip_ref.close()"
      ],
      "metadata": {
        "id": "8bszkBF7ndyj"
      },
      "id": "8bszkBF7ndyj",
      "execution_count": 19,
      "outputs": []
    },
    {
      "cell_type": "code",
      "source": [
        "# show number of classes and images\n",
        "\n",
        "source_images_path = '/tmp/colored_images/colored_images/'\n",
        "extracted_directories_path = os.listdir(source_images_path)\n",
        "\n",
        "for image_directory in extracted_directories_path:\n",
        "  print(image_directory, len(os.listdir(os.path.join(source_images_path, image_directory))))"
      ],
      "metadata": {
        "colab": {
          "base_uri": "https://localhost:8080/"
        },
        "id": "5Wqza8h6nqEY",
        "outputId": "d5fb4fbb-cfa2-4a4b-e37e-ca4837833ec2"
      },
      "id": "5Wqza8h6nqEY",
      "execution_count": 20,
      "outputs": [
        {
          "output_type": "stream",
          "name": "stdout",
          "text": [
            "Severe 873\n",
            "Moderate 5292\n",
            "Proliferate_DR 708\n",
            "No_DR 25810\n",
            "Mild 2443\n"
          ]
        }
      ]
    },
    {
      "cell_type": "markdown",
      "metadata": {
        "id": "678fce99"
      },
      "source": [
        "## 2 | Exploratory Data Analysis"
      ],
      "id": "678fce99"
    },
    {
      "cell_type": "code",
      "source": [
        "# read in files and diagnosis label and store as dataframe\n",
        "\n",
        "filepath = '/tmp/colored_images/colored_images'\n",
        "dataframe = {'image_path':[],'diagnosis':[]}\n",
        "\n",
        "for diagnosis in os.listdir(filepath):\n",
        "    print(diagnosis)\n",
        "    if diagnosis != 'colored_images':        \n",
        "        for image in os.listdir(filepath +\"/\"+diagnosis):\n",
        "            if image != 'Dataset':\n",
        "                dataframe['image_path'].append(filepath +\"/\"+diagnosis+\"/\"+ image)\n",
        "                dataframe['diagnosis'].append(diagnosis)\n",
        "dataframe = pd.DataFrame(dataframe)  \n",
        "dataframe.info()\n",
        "dataframe.head(2)"
      ],
      "metadata": {
        "colab": {
          "base_uri": "https://localhost:8080/",
          "height": 355
        },
        "id": "Vs7otXFJke-S",
        "outputId": "5518fea8-2e42-4340-ee28-28fb06cc8051"
      },
      "id": "Vs7otXFJke-S",
      "execution_count": 21,
      "outputs": [
        {
          "output_type": "stream",
          "name": "stdout",
          "text": [
            "Severe\n",
            "Moderate\n",
            "Proliferate_DR\n",
            "No_DR\n",
            "Mild\n",
            "<class 'pandas.core.frame.DataFrame'>\n",
            "RangeIndex: 35126 entries, 0 to 35125\n",
            "Data columns (total 2 columns):\n",
            " #   Column      Non-Null Count  Dtype \n",
            "---  ------      --------------  ----- \n",
            " 0   image_path  35126 non-null  object\n",
            " 1   diagnosis   35126 non-null  object\n",
            "dtypes: object(2)\n",
            "memory usage: 549.0+ KB\n"
          ]
        },
        {
          "output_type": "execute_result",
          "data": {
            "text/plain": [
              "                                                  image_path diagnosis\n",
              "0    /tmp/colored_images/colored_images/Severe/328_right.png    Severe\n",
              "1  /tmp/colored_images/colored_images/Severe/44200_right.png    Severe"
            ],
            "text/html": [
              "\n",
              "  <div id=\"df-1ee2ec9e-c94f-4cb4-bc80-f479052a842a\">\n",
              "    <div class=\"colab-df-container\">\n",
              "      <div>\n",
              "<style scoped>\n",
              "    .dataframe tbody tr th:only-of-type {\n",
              "        vertical-align: middle;\n",
              "    }\n",
              "\n",
              "    .dataframe tbody tr th {\n",
              "        vertical-align: top;\n",
              "    }\n",
              "\n",
              "    .dataframe thead th {\n",
              "        text-align: right;\n",
              "    }\n",
              "</style>\n",
              "<table border=\"1\" class=\"dataframe\">\n",
              "  <thead>\n",
              "    <tr style=\"text-align: right;\">\n",
              "      <th></th>\n",
              "      <th>image_path</th>\n",
              "      <th>diagnosis</th>\n",
              "    </tr>\n",
              "  </thead>\n",
              "  <tbody>\n",
              "    <tr>\n",
              "      <th>0</th>\n",
              "      <td>/tmp/colored_images/colored_images/Severe/328_right.png</td>\n",
              "      <td>Severe</td>\n",
              "    </tr>\n",
              "    <tr>\n",
              "      <th>1</th>\n",
              "      <td>/tmp/colored_images/colored_images/Severe/44200_right.png</td>\n",
              "      <td>Severe</td>\n",
              "    </tr>\n",
              "  </tbody>\n",
              "</table>\n",
              "</div>\n",
              "      <button class=\"colab-df-convert\" onclick=\"convertToInteractive('df-1ee2ec9e-c94f-4cb4-bc80-f479052a842a')\"\n",
              "              title=\"Convert this dataframe to an interactive table.\"\n",
              "              style=\"display:none;\">\n",
              "        \n",
              "  <svg xmlns=\"http://www.w3.org/2000/svg\" height=\"24px\"viewBox=\"0 0 24 24\"\n",
              "       width=\"24px\">\n",
              "    <path d=\"M0 0h24v24H0V0z\" fill=\"none\"/>\n",
              "    <path d=\"M18.56 5.44l.94 2.06.94-2.06 2.06-.94-2.06-.94-.94-2.06-.94 2.06-2.06.94zm-11 1L8.5 8.5l.94-2.06 2.06-.94-2.06-.94L8.5 2.5l-.94 2.06-2.06.94zm10 10l.94 2.06.94-2.06 2.06-.94-2.06-.94-.94-2.06-.94 2.06-2.06.94z\"/><path d=\"M17.41 7.96l-1.37-1.37c-.4-.4-.92-.59-1.43-.59-.52 0-1.04.2-1.43.59L10.3 9.45l-7.72 7.72c-.78.78-.78 2.05 0 2.83L4 21.41c.39.39.9.59 1.41.59.51 0 1.02-.2 1.41-.59l7.78-7.78 2.81-2.81c.8-.78.8-2.07 0-2.86zM5.41 20L4 18.59l7.72-7.72 1.47 1.35L5.41 20z\"/>\n",
              "  </svg>\n",
              "      </button>\n",
              "      \n",
              "  <style>\n",
              "    .colab-df-container {\n",
              "      display:flex;\n",
              "      flex-wrap:wrap;\n",
              "      gap: 12px;\n",
              "    }\n",
              "\n",
              "    .colab-df-convert {\n",
              "      background-color: #E8F0FE;\n",
              "      border: none;\n",
              "      border-radius: 50%;\n",
              "      cursor: pointer;\n",
              "      display: none;\n",
              "      fill: #1967D2;\n",
              "      height: 32px;\n",
              "      padding: 0 0 0 0;\n",
              "      width: 32px;\n",
              "    }\n",
              "\n",
              "    .colab-df-convert:hover {\n",
              "      background-color: #E2EBFA;\n",
              "      box-shadow: 0px 1px 2px rgba(60, 64, 67, 0.3), 0px 1px 3px 1px rgba(60, 64, 67, 0.15);\n",
              "      fill: #174EA6;\n",
              "    }\n",
              "\n",
              "    [theme=dark] .colab-df-convert {\n",
              "      background-color: #3B4455;\n",
              "      fill: #D2E3FC;\n",
              "    }\n",
              "\n",
              "    [theme=dark] .colab-df-convert:hover {\n",
              "      background-color: #434B5C;\n",
              "      box-shadow: 0px 1px 3px 1px rgba(0, 0, 0, 0.15);\n",
              "      filter: drop-shadow(0px 1px 2px rgba(0, 0, 0, 0.3));\n",
              "      fill: #FFFFFF;\n",
              "    }\n",
              "  </style>\n",
              "\n",
              "      <script>\n",
              "        const buttonEl =\n",
              "          document.querySelector('#df-1ee2ec9e-c94f-4cb4-bc80-f479052a842a button.colab-df-convert');\n",
              "        buttonEl.style.display =\n",
              "          google.colab.kernel.accessAllowed ? 'block' : 'none';\n",
              "\n",
              "        async function convertToInteractive(key) {\n",
              "          const element = document.querySelector('#df-1ee2ec9e-c94f-4cb4-bc80-f479052a842a');\n",
              "          const dataTable =\n",
              "            await google.colab.kernel.invokeFunction('convertToInteractive',\n",
              "                                                     [key], {});\n",
              "          if (!dataTable) return;\n",
              "\n",
              "          const docLinkHtml = 'Like what you see? Visit the ' +\n",
              "            '<a target=\"_blank\" href=https://colab.research.google.com/notebooks/data_table.ipynb>data table notebook</a>'\n",
              "            + ' to learn more about interactive tables.';\n",
              "          element.innerHTML = '';\n",
              "          dataTable['output_type'] = 'display_data';\n",
              "          await google.colab.output.renderOutput(dataTable, element);\n",
              "          const docLink = document.createElement('div');\n",
              "          docLink.innerHTML = docLinkHtml;\n",
              "          element.appendChild(docLink);\n",
              "        }\n",
              "      </script>\n",
              "    </div>\n",
              "  </div>\n",
              "  "
            ]
          },
          "metadata": {},
          "execution_count": 21
        }
      ]
    },
    {
      "cell_type": "markdown",
      "source": [
        "Data set n = 35,126"
      ],
      "metadata": {
        "id": "HRx23uUVzhLD"
      },
      "id": "HRx23uUVzhLD"
    },
    {
      "cell_type": "markdown",
      "source": [
        "### EDA"
      ],
      "metadata": {
        "id": "Cd7Xhk4lLUwS"
      },
      "id": "Cd7Xhk4lLUwS"
    },
    {
      "cell_type": "code",
      "execution_count": 22,
      "metadata": {
        "colab": {
          "base_uri": "https://localhost:8080/",
          "height": 409
        },
        "id": "9SYJaUP4H-Cs",
        "outputId": "7dfbdd4e-36b8-44ab-b3c2-e21d1661b503"
      },
      "outputs": [
        {
          "output_type": "display_data",
          "data": {
            "text/plain": [
              "<Figure size 1080x432 with 1 Axes>"
            ],
            "image/png": "[encoded data removed]"
          },
          "metadata": {
            "image/png": {
              "width": 912,
              "height": 392
            }
          }
        }
      ],
      "source": [
        "# distribution of five diagnosis classes in order of severity of disease\n",
        "\n",
        "plt.figure(figsize=(15,6))\n",
        "sns.barplot(dataframe.diagnosis.value_counts().index,\n",
        "            dataframe.diagnosis.value_counts(),\n",
        "            palette=None)\n",
        "plt.title(\"Distribution of Diabetic Retinopahty Diagnosis Classes\")\n",
        "plt.xlabel(\"Diagnosis\")\n",
        "plt.ylabel(\"Frequency\");\n"
      ],
      "id": "9SYJaUP4H-Cs"
    },
    {
      "cell_type": "markdown",
      "source": [
        "Classes are unbalanced"
      ],
      "metadata": {
        "id": "OGGX9W-lzlMS"
      },
      "id": "OGGX9W-lzlMS"
    },
    {
      "cell_type": "code",
      "execution_count": 23,
      "metadata": {
        "id": "5wM6uskkH-Cs",
        "colab": {
          "base_uri": "https://localhost:8080/",
          "height": 276
        },
        "outputId": "82ccc4b0-978a-479d-bae8-968cc3b7489f"
      },
      "outputs": [
        {
          "output_type": "stream",
          "name": "stdout",
          "text": [
            "No Diabetic Retinopthy\n",
            "Datatype: <class 'PIL.PngImagePlugin.PngImageFile'>\n"
          ]
        },
        {
          "output_type": "execute_result",
          "data": {
            "text/plain": [
              "<PIL.PngImagePlugin.PngImageFile image mode=RGB size=224x224 at 0x7F0A1AA10990>"
            ],
            "image/png": "[encoded data removed]"
          },
          "metadata": {},
          "execution_count": 23
        }
      ],
      "source": [
        "# view one healthy eye image\n",
        "\n",
        "path = '/tmp/colored_images/colored_images/No_DR/10003_left.png'\n",
        "\n",
        "healthy_image = tf.keras.preprocessing.image.load_img(\n",
        "   path,\n",
        "   grayscale=False, \n",
        "   color_mode=\"rgb\", \n",
        "  #  target_size=(256, 256),\n",
        "   interpolation=\"nearest\")\n",
        "\n",
        "print('No Diabetic Retinopthy')\n",
        "print('Datatype:', type(healthy_image))\n",
        "healthy_image \n"
      ],
      "id": "5wM6uskkH-Cs"
    },
    {
      "cell_type": "code",
      "execution_count": 24,
      "metadata": {
        "id": "jdQHTkYEH-Cs",
        "colab": {
          "base_uri": "https://localhost:8080/",
          "height": 276
        },
        "outputId": "62cdabf5-60ff-4bba-f7c0-6d7eca5690aa"
      },
      "outputs": [
        {
          "output_type": "stream",
          "name": "stdout",
          "text": [
            "Proliferate Diabetic Retinopthy\n",
            "Datatype: <class 'PIL.PngImagePlugin.PngImageFile'>\n"
          ]
        },
        {
          "output_type": "execute_result",
          "data": {
            "text/plain": [
              "<PIL.PngImagePlugin.PngImageFile image mode=RGB size=224x224 at 0x7F0A9781C110>"
            ],
            "image/png": "[encoded data removed]"
          },
          "metadata": {},
          "execution_count": 24
        }
      ],
      "source": [
        "# view one proliferate DR image (most advanced stage of disease)\n",
        "\n",
        "path = '/tmp/colored_images/colored_images/Proliferate_DR/10017_left.png'\n",
        "\n",
        "proliferate_image = tf.keras.preprocessing.image.load_img(\n",
        "   path,\n",
        "   grayscale=False, \n",
        "   color_mode=\"rgb\", \n",
        "  #  target_size=(256, 256), \n",
        "   interpolation=\"nearest\")\n",
        "\n",
        "print('Proliferate Diabetic Retinopthy')\n",
        "print('Datatype:', type(proliferate_image))\n",
        "proliferate_image \n"
      ],
      "id": "jdQHTkYEH-Cs"
    },
    {
      "cell_type": "markdown",
      "source": [
        "### Validation Split"
      ],
      "metadata": {
        "id": "dGB1VbycEzd-"
      },
      "id": "dGB1VbycEzd-"
    },
    {
      "cell_type": "code",
      "source": [
        "# set up for train/test split\n",
        "\n",
        "temp_path = '/tmp'\n",
        "raw_data_dir_name = 'raw_data'\n",
        "train_data_dir_name = 'train'\n",
        "test_data_dir_name = 'test'\n",
        "raw_data_directories = [train_data_dir_name, test_data_dir_name]\n",
        "\n",
        "images_path =  os.path.join(temp_path, raw_data_dir_name)\n",
        "tmp_directories = os.listdir(temp_path)\n",
        "\n",
        "def build_raw_data_directory(parent, directory):\n",
        "  dir_path = os.path.join(parent, directory)\n",
        "  os.mkdir(dir_path)\n",
        "  for dir in extracted_directories_path:\n",
        "    os.mkdir(os.path.join(dir_path, dir))\n",
        "\n",
        "if raw_data_dir_name not in tmp_directories:\n",
        "  os.mkdir(images_path)\n",
        "  for directory in raw_data_directories:\n",
        "    build_raw_data_directory(images_path, directory)\n",
        "else:\n",
        "  print(raw_data_dir_name, \" already exist\")\n",
        "  images_path_directories = os.listdir(images_path)\n",
        "  for directory in raw_data_directories:\n",
        "    if directory not in images_path_directories:\n",
        "      build_raw_data_directory(images_path, directory)\n",
        "\n",
        "\n"
      ],
      "metadata": {
        "id": "kzKM7y_dOIkG"
      },
      "id": "kzKM7y_dOIkG",
      "execution_count": 25,
      "outputs": []
    },
    {
      "cell_type": "code",
      "source": [
        "# split data into train/test folders\n",
        "\n",
        "distribution = 0.2\n",
        "\n",
        "raw_data_path = os.path.join(temp_path, raw_data_dir_name)\n",
        "test_data_path_root = os.path.join(raw_data_path, test_data_dir_name)\n",
        "train_data_path_root = os.path.join(raw_data_path, train_data_dir_name)\n",
        "\n",
        "data_dirs = os.listdir(source_images_path)\n",
        "for dir in data_dirs:\n",
        "  path = os.path.join(source_images_path, dir)\n",
        "  test_data_path = os.path.join(test_data_path_root, dir)\n",
        "  train_data_path = os.path.join(train_data_path_root, dir)\n",
        "  images = os.listdir(path)\n",
        "  print(path, test_data_path)\n",
        "  for image in images:\n",
        "    random_number = random.uniform(0, 1)\n",
        "    is_test_image = random_number < distribution\n",
        "    source_image_path = os.path.join(path, image)\n",
        "    # shutil.copy(src, dst)\n",
        "    if is_test_image:\n",
        "      shutil.copy(source_image_path, test_data_path)\n",
        "      # print(source_image_path, \"goes to test\", test_data_path)\n",
        "    else:\n",
        "      shutil.copy(source_image_path, train_data_path)\n",
        "      # print(source_image_path, \"goes to train\", train_data_path)\n",
        "\n",
        "test_data_path_root = os.path.join(raw_data_path, test_data_dir_name)\n",
        "train_data_path_root = os.path.join(raw_data_path, train_data_dir_name)\n",
        "\n",
        "test_dirs = os.listdir(test_data_path_root)\n",
        "train_dirs = os.listdir(train_data_path_root)\n",
        "\n",
        "for dir in test_dirs:\n",
        "  path = os.path.join(test_data_path_root, dir)\n",
        "  files = os.listdir(path)\n",
        "  print(path, len(files))\n",
        "\n",
        "for dir in train_dirs:\n",
        "  path = os.path.join(train_data_path_root, dir)\n",
        "  files = os.listdir(path)\n",
        "  print(path, len(files))"
      ],
      "metadata": {
        "colab": {
          "base_uri": "https://localhost:8080/"
        },
        "id": "C-530XeBUQXs",
        "outputId": "c3f17e8f-f378-4d9c-8a67-c926a29c5f63"
      },
      "id": "C-530XeBUQXs",
      "execution_count": 26,
      "outputs": [
        {
          "output_type": "stream",
          "name": "stdout",
          "text": [
            "/tmp/colored_images/colored_images/Severe /tmp/raw_data/test/Severe\n",
            "/tmp/colored_images/colored_images/Moderate /tmp/raw_data/test/Moderate\n",
            "/tmp/colored_images/colored_images/Proliferate_DR /tmp/raw_data/test/Proliferate_DR\n",
            "/tmp/colored_images/colored_images/No_DR /tmp/raw_data/test/No_DR\n",
            "/tmp/colored_images/colored_images/Mild /tmp/raw_data/test/Mild\n",
            "/tmp/raw_data/test/Severe 159\n",
            "/tmp/raw_data/test/Moderate 1114\n",
            "/tmp/raw_data/test/Proliferate_DR 139\n",
            "/tmp/raw_data/test/No_DR 5210\n",
            "/tmp/raw_data/test/Mild 504\n",
            "/tmp/raw_data/train/Severe 714\n",
            "/tmp/raw_data/train/Moderate 4178\n",
            "/tmp/raw_data/train/Proliferate_DR 569\n",
            "/tmp/raw_data/train/No_DR 20600\n",
            "/tmp/raw_data/train/Mild 1939\n"
          ]
        }
      ]
    },
    {
      "cell_type": "markdown",
      "source": [
        "# Logistic Regression"
      ],
      "metadata": {
        "id": "DL1eAZLI4WhQ"
      },
      "id": "DL1eAZLI4WhQ"
    },
    {
      "cell_type": "markdown",
      "source": [
        "### Code adapted from [sdblass](https://github.com/sdblass/Metis_coursework/blob/master/6_Deep_Learning/2_baseline_model.ipynb)"
      ],
      "metadata": {
        "id": "Sn8eVz_kgInL"
      },
      "id": "Sn8eVz_kgInL"
    },
    {
      "cell_type": "code",
      "source": [
        "root= '/tmp/raw_data/train'"
      ],
      "metadata": {
        "id": "iWrBVEXogH0b"
      },
      "id": "iWrBVEXogH0b",
      "execution_count": 28,
      "outputs": []
    },
    {
      "cell_type": "code",
      "source": [
        "retinas = os.listdir(root)\n",
        "retinas = [retina for retina in retinas if retina[0]!='.']\n"
      ],
      "metadata": {
        "id": "XHvrL9dzgH_V"
      },
      "id": "XHvrL9dzgH_V",
      "execution_count": 29,
      "outputs": []
    },
    {
      "cell_type": "code",
      "source": [
        "# convert image to ID vector\n",
        "\n",
        "test_img_path = os.listdir(root+f'/{retinas[0]}')[0]\n",
        "test_img_path = root+f'/{retinas[0]}' + f'/{test_img_path}'\n",
        "test_img = Image.open(test_img_path)"
      ],
      "metadata": {
        "id": "RgbqnyJfgIDD"
      },
      "id": "RgbqnyJfgIDD",
      "execution_count": 33,
      "outputs": []
    },
    {
      "cell_type": "code",
      "source": [
        "# num pixels\n",
        "\n",
        "dimension = np.array(test_img).reshape(-1).shape[0]\n",
        "dimension"
      ],
      "metadata": {
        "colab": {
          "base_uri": "https://localhost:8080/"
        },
        "id": "zQhsHuochNrz",
        "outputId": "bf1f7cc7-cabf-4040-ed9b-08e67fcede09"
      },
      "id": "zQhsHuochNrz",
      "execution_count": 34,
      "outputs": [
        {
          "output_type": "execute_result",
          "data": {
            "text/plain": [
              "150528"
            ]
          },
          "metadata": {},
          "execution_count": 34
        }
      ]
    },
    {
      "cell_type": "code",
      "source": [
        "# num images\n",
        "\n",
        "def image_count(num_diagnoses, root): \n",
        "  num_images = 0\n",
        "  for i, retina in enumerate(retinas):\n",
        "    if i == num_diagnoses: break\n",
        "    num_images += len(os.listdir(root + f'/{retina}'))\n",
        "  return num_images"
      ],
      "metadata": {
        "id": "f-70Vh6uhNwa"
      },
      "id": "f-70Vh6uhNwa",
      "execution_count": 37,
      "outputs": []
    },
    {
      "cell_type": "code",
      "source": [
        "image_count(5, root)"
      ],
      "metadata": {
        "colab": {
          "base_uri": "https://localhost:8080/"
        },
        "id": "Gbka11SphOJQ",
        "outputId": "71722b27-c8fe-496b-aa08-0b951af820fe"
      },
      "id": "Gbka11SphOJQ",
      "execution_count": 38,
      "outputs": [
        {
          "output_type": "execute_result",
          "data": {
            "text/plain": [
              "28000"
            ]
          },
          "metadata": {},
          "execution_count": 38
        }
      ]
    },
    {
      "cell_type": "code",
      "source": [
        "image_repo = np.zeros([image_count(5, root), dimension])\n",
        "image_repo"
      ],
      "metadata": {
        "id": "zBpX0-L2hOJ7"
      },
      "id": "zBpX0-L2hOJ7",
      "execution_count": null,
      "outputs": []
    },
    {
      "cell_type": "code",
      "source": [
        ""
      ],
      "metadata": {
        "id": "SNFKMG6dhOKp"
      },
      "id": "SNFKMG6dhOKp",
      "execution_count": null,
      "outputs": []
    },
    {
      "cell_type": "markdown",
      "source": [
        "### Code adapted from [ngoodby](https://github.com/ngoodby/Metis-Deep-Learning-Project/blob/master/model_creation.ipynb)"
      ],
      "metadata": {
        "id": "cmEQPzB4JLgt"
      },
      "id": "cmEQPzB4JLgt"
    },
    {
      "cell_type": "code",
      "source": [
        "class_names = ['Proliferate_DR', 'Mild','No_DR', 'Severe', 'Moderate']\n",
        "class_names_label = {class_name:i for i, class_name in enumerate(class_names)}\n",
        "size = (224,224)\n",
        "num_classes = len(class_names)"
      ],
      "metadata": {
        "id": "bAlqoQeE4UfU"
      },
      "id": "bAlqoQeE4UfU",
      "execution_count": 27,
      "outputs": []
    },
    {
      "cell_type": "code",
      "source": [
        "def load_data(class_names):\n",
        "    \n",
        "    datasets = ['/tmp/raw_data/train', \n",
        "                '/tmp/raw_data/test']\n",
        "    output = []\n",
        "    \n",
        "    # Iterate through training and test set folders\n",
        "    for dataset in datasets:\n",
        "\n",
        "        images = []\n",
        "        labels = []\n",
        "        folders = os.listdir(dataset)\n",
        "        folders = [value for value in folders if value != \".DS_Store\"]\n",
        "        \n",
        "        print(\"Loading {}\".format(dataset))\n",
        "        \n",
        "        # Iterate through each folder corresponding to a category\n",
        "        for folder in folders:\n",
        "            label = class_names_label[folder]\n",
        "            \n",
        "            # Iterate through each image in the folder\n",
        "            for file in tqdm(os.listdir(os.path.join(dataset, folder))):\n",
        "\n",
        "                # Get the path name of the image\n",
        "                img_path = os.path.join(os.path.join(dataset, folder), file)\n",
        "\n",
        "                # Open and resize the image\n",
        "                image = cv2.imread(img_path)\n",
        "#                 image = cv2.cvtColor(image, cv2.COLOR_BGR2RGB)\n",
        "#                 image = cv2.resize(image, size) \n",
        "\n",
        "                # Append the image and its corresponding label to the output\n",
        "                images.append(image)\n",
        "                labels.append(label)\n",
        "                \n",
        "        images = np.array(images, dtype = None)\n",
        "        labels = np.array(labels, dtype = None)   \n",
        "        \n",
        "        output.append((images, labels))\n",
        "\n",
        "    return output"
      ],
      "metadata": {
        "id": "x4VmTxXD4UrF"
      },
      "id": "x4VmTxXD4UrF",
      "execution_count": null,
      "outputs": []
    },
    {
      "cell_type": "code",
      "source": [
        "(train_images, train_labels), (test_images, test_labels) = load_data(class_names)"
      ],
      "metadata": {
        "colab": {
          "base_uri": "https://localhost:8080/"
        },
        "id": "20QnWkNP4Uxk",
        "outputId": "014d2b7a-0bd2-47d8-ab89-f287f06b75ae"
      },
      "id": "20QnWkNP4Uxk",
      "execution_count": null,
      "outputs": [
        {
          "output_type": "stream",
          "name": "stdout",
          "text": [
            "Loading /tmp/raw_data/train\n"
          ]
        },
        {
          "output_type": "stream",
          "name": "stderr",
          "text": [
            "100%|██████████| 562/562 [00:00<00:00, 811.66it/s]\n",
            "100%|██████████| 1958/1958 [00:02<00:00, 864.38it/s]\n",
            "100%|██████████| 20595/20595 [00:24<00:00, 852.44it/s]\n",
            "100%|██████████| 710/710 [00:00<00:00, 874.96it/s]\n",
            "100%|██████████| 4231/4231 [00:04<00:00, 866.73it/s]\n"
          ]
        },
        {
          "output_type": "stream",
          "name": "stdout",
          "text": [
            "Loading /tmp/raw_data/test\n"
          ]
        },
        {
          "output_type": "stream",
          "name": "stderr",
          "text": [
            "100%|██████████| 146/146 [00:00<00:00, 901.16it/s]\n",
            "100%|██████████| 485/485 [00:00<00:00, 890.49it/s]\n",
            "100%|██████████| 5215/5215 [00:05<00:00, 891.56it/s]\n",
            "100%|██████████| 163/163 [00:00<00:00, 906.66it/s]\n",
            "100%|██████████| 1061/1061 [00:01<00:00, 905.58it/s]\n"
          ]
        }
      ]
    },
    {
      "cell_type": "code",
      "source": [
        "train_images = train_images.flatten()\n",
        "print('train images type:', type(train_images))\n",
        "print('train images shape:', train_images.shape)"
      ],
      "metadata": {
        "colab": {
          "base_uri": "https://localhost:8080/"
        },
        "id": "PRd0LN854U1f",
        "outputId": "ea319dab-5656-4540-a11c-bfddb251375e"
      },
      "id": "PRd0LN854U1f",
      "execution_count": null,
      "outputs": [
        {
          "output_type": "stream",
          "name": "stdout",
          "text": [
            "train images type: <class 'numpy.ndarray'>\n",
            "train images shape: (4223213568,)\n"
          ]
        }
      ]
    },
    {
      "cell_type": "code",
      "source": [
        "test_images = test_images.flatten()\n",
        "print('test images type:', type(test_images))\n",
        "print('test images shape:', test_images.shape)"
      ],
      "metadata": {
        "colab": {
          "base_uri": "https://localhost:8080/"
        },
        "id": "jR9Zamej4U6H",
        "outputId": "7f7ca57c-cd48-4971-da69-53fb6b2250ca"
      },
      "id": "jR9Zamej4U6H",
      "execution_count": null,
      "outputs": [
        {
          "output_type": "stream",
          "name": "stdout",
          "text": [
            "test images type: <class 'numpy.ndarray'>\n",
            "test images shape: (1064232960,)\n"
          ]
        }
      ]
    },
    {
      "cell_type": "markdown",
      "source": [
        "### Code adapted from [PurpleGrace](https://github.com/PurpleGrace/Deep_Learning_Tools_Image_Classification/blob/main/code/1.EDA_Sample_Images.ipynb)"
      ],
      "metadata": {
        "id": "BotmqlFzK3Yv"
      },
      "id": "BotmqlFzK3Yv"
    },
    {
      "cell_type": "code",
      "source": [
        "def img_to_array(img_path):\n",
        "    img=  IMG.load_img(img_path,target_size=[150,150])\n",
        "    x = IMG.img_to_array(img)\n",
        "    return x"
      ],
      "metadata": {
        "id": "cq3lO9F4LoK2"
      },
      "id": "cq3lO9F4LoK2",
      "execution_count": null,
      "outputs": []
    },
    {
      "cell_type": "code",
      "source": [
        "filepath = 'work_data'\n",
        "\n",
        "work_data_df = {'image_path':[],'category':[],'class':[]}\n",
        "\n",
        "for class_ in os.listdir(filepath):\n",
        "    if class_ != '.DS_Store':  \n",
        "        for category in os.listdir(filepath +\"/\"+class_):\n",
        "            if category != '.DS_Store':        \n",
        "                for image in os.listdir(filepath +\"/\"+class_ +\"/\"+category):\n",
        "                    if image != '.DS_Store':\n",
        "                        work_data_df['image_path'].append(filepath +\"/\"+class_+\"/\"+category+\"/\"+ image)\n",
        "                        work_data_df['category'].append(category)\n",
        "                        work_data_df['class'].append(class_)\n",
        "work_data_df = pd.DataFrame(work_data_df)    \n",
        "work_data_df.head()"
      ],
      "metadata": {
        "id": "EeE63urSLoOg"
      },
      "id": "EeE63urSLoOg",
      "execution_count": null,
      "outputs": []
    },
    {
      "cell_type": "code",
      "source": [
        "work_data_df.to_csv('work_data_df')\n"
      ],
      "metadata": {
        "id": "QJw0JrevKwts"
      },
      "id": "QJw0JrevKwts",
      "execution_count": null,
      "outputs": []
    },
    {
      "cell_type": "code",
      "source": [
        "X_train = []\n",
        "X_val = []\n",
        "X_test = []\n",
        "\n",
        "data_train = work_data_df[work_data_df['class'] == 'train']\n",
        "y_train = data_train.category.astype(\"category\").cat.codes\n",
        "y_train_hotcode = keras.utils.to_categorical(y_train)\n",
        "for index in data_train.index:\n",
        "    X_train.append(img_to_array(data_train.loc[index,'image_path']))\n",
        "    \n",
        "data_val = work_data_df[work_data_df['class'] == 'validation']\n",
        "y_val = data_val.category.astype(\"category\").cat.codes\n",
        "y_val_hotcode = keras.utils.to_categorical(y_train)\n",
        "for index in data_val.index:\n",
        "    X_val.append(img_to_array(data_val.loc[index,'image_path']))    \n",
        "    \n",
        "data_test = work_data_df[work_data_df['class'] == 'test']\n",
        "y_test = data_test.category.astype(\"category\").cat.codes\n",
        "y_test_hotcode = keras.utils.to_categorical(y_test)\n",
        "for index in data_test.index:\n",
        "    X_test.append(img_to_array((data_test.loc[index,'image_path'])))   \n",
        "    \n",
        "X_train = np.array(X_train)\n",
        "X_test = np.array(X_test)\n",
        "X_val = np.array(X_val)"
      ],
      "metadata": {
        "id": "Ot1g_eGVKw0_"
      },
      "id": "Ot1g_eGVKw0_",
      "execution_count": null,
      "outputs": []
    },
    {
      "cell_type": "code",
      "source": [
        "### Save X_digit, y_digit\n",
        "image_data_array = (X_train, X_test,X_val,y_train,y_test,y_val)\n",
        "with open('image_data_array.pickle','wb') as file:\n",
        "    pickle.dump(image_data_array,file)"
      ],
      "metadata": {
        "id": "HBXzYqulLEeL"
      },
      "id": "HBXzYqulLEeL",
      "execution_count": null,
      "outputs": []
    },
    {
      "cell_type": "code",
      "source": [
        "print(f\"We have {len(X_train)} train dataset\")\n",
        "print(f\"We have {len(X_val)} train dataset\")\n",
        "print(f\"We have {len(X_test)} test dataset\")"
      ],
      "metadata": {
        "id": "CniW_FGpLEiG"
      },
      "id": "CniW_FGpLEiG",
      "execution_count": null,
      "outputs": []
    },
    {
      "cell_type": "code",
      "source": [
        "global category_map\n",
        "category_int_map = dict(zip(data_train.category,y_train))\n",
        "int_category_map = dict(zip(y_train,data_train.category))\n",
        "int_category_map"
      ],
      "metadata": {
        "id": "ne9ldw-HLEk8"
      },
      "id": "ne9ldw-HLEk8",
      "execution_count": null,
      "outputs": []
    },
    {
      "cell_type": "code",
      "source": [
        "category_int_map\n"
      ],
      "metadata": {
        "id": "xlHC36jyLMZd"
      },
      "id": "xlHC36jyLMZd",
      "execution_count": null,
      "outputs": []
    },
    {
      "cell_type": "markdown",
      "metadata": {
        "id": "GwlHbfpL1JAH"
      },
      "source": [
        "# 3 | Deep Learning Model"
      ],
      "id": "GwlHbfpL1JAH"
    },
    {
      "cell_type": "markdown",
      "source": [
        "### Deep Learning First Model"
      ],
      "metadata": {
        "id": "oh0NfWeMwb4f"
      },
      "id": "oh0NfWeMwb4f"
    },
    {
      "cell_type": "markdown",
      "source": [
        "Code source: https://gist.github.com/fchollet/0830affa1f7f19fd47b06d4cf89ed44d "
      ],
      "metadata": {
        "id": "Di9VDJ555WHh"
      },
      "id": "Di9VDJ555WHh"
    },
    {
      "cell_type": "code",
      "source": [
        "img_width, img_height = 150, 150\n",
        "\n",
        "train_data_dir = 'data/train'\n",
        "validation_data_dir = 'data/validation'\n",
        "nb_train_samples = 2000\n",
        "nb_validation_samples = 800\n",
        "epochs = 50\n",
        "batch_size = 16"
      ],
      "metadata": {
        "id": "2YcpKfoF3qwZ"
      },
      "id": "2YcpKfoF3qwZ",
      "execution_count": null,
      "outputs": []
    },
    {
      "cell_type": "code",
      "source": [
        "if K.image_data_format() == 'channels_first':\n",
        "    input_shape = (3, img_width, img_height)\n",
        "else:\n",
        "    input_shape = (img_width, img_height, 3)"
      ],
      "metadata": {
        "id": "WBv-VnOP3qzS"
      },
      "id": "WBv-VnOP3qzS",
      "execution_count": null,
      "outputs": []
    },
    {
      "cell_type": "code",
      "execution_count": null,
      "metadata": {
        "id": "FjzZk4kvH-Cu"
      },
      "outputs": [],
      "source": [
        "model = Sequential()\n",
        "model.add(Conv2D(32, (3, 3), input_shape=input_shape))\n",
        "model.add(Activation('relu'))\n",
        "model.add(MaxPooling2D(pool_size=(2, 2)))\n",
        "\n",
        "model.add(Conv2D(32, (3, 3)))\n",
        "model.add(Activation('relu'))\n",
        "model.add(MaxPooling2D(pool_size=(2, 2)))\n",
        "\n",
        "model.add(Conv2D(64, (3, 3)))\n",
        "model.add(Activation('relu'))\n",
        "model.add(MaxPooling2D(pool_size=(2, 2)))\n",
        "\n",
        "model.add(Flatten())\n",
        "model.add(Dense(64))\n",
        "model.add(Activation('relu'))\n",
        "model.add(Dropout(0.5))\n",
        "model.add(Dense(1))\n",
        "model.add(Activation('sigmoid'))\n"
      ],
      "id": "FjzZk4kvH-Cu"
    },
    {
      "cell_type": "code",
      "source": [
        "model.compile(loss='binary_crossentropy',\n",
        "              optimizer='rmsprop',\n",
        "              metrics=['accuracy'])"
      ],
      "metadata": {
        "id": "uxuBD5Zx3q6S"
      },
      "id": "uxuBD5Zx3q6S",
      "execution_count": null,
      "outputs": []
    },
    {
      "cell_type": "code",
      "source": [
        "train_datagen = ImageDataGenerator(\n",
        "        rescale=1./255,\n",
        "        shear_range=0.2,\n",
        "        zoom_range=0.2,\n",
        "        horizontal_flip=True)\n",
        "\n",
        "test_datagen = ImageDataGenerator(rescale=1./255)\n",
        "\n",
        "train_generator = train_datagen.flow_from_directory(\n",
        "        '/tmp/raw_data/train',  \n",
        "        target_size=(150, 150), \n",
        "        batch_size=batch_size,\n",
        "        class_mode='binary')  \n",
        "\n",
        "validation_generator = test_datagen.flow_from_directory(\n",
        "        '/tmp/raw_data/test',\n",
        "        target_size=(150, 150),\n",
        "        batch_size=batch_size,\n",
        "        class_mode='binary')"
      ],
      "metadata": {
        "colab": {
          "base_uri": "https://localhost:8080/"
        },
        "id": "1x2C2Sl5zyW2",
        "outputId": "be8b065d-cbac-41e0-a36b-211d27a3b74f"
      },
      "id": "1x2C2Sl5zyW2",
      "execution_count": null,
      "outputs": [
        {
          "output_type": "stream",
          "name": "stdout",
          "text": [
            "Found 28095 images belonging to 5 classes.\n",
            "Found 7031 images belonging to 5 classes.\n"
          ]
        }
      ]
    },
    {
      "cell_type": "code",
      "source": [
        "model.fit_generator(\n",
        "        train_generator,\n",
        "        steps_per_epoch=nb_train_samples // batch_size,\n",
        "        epochs=5,\n",
        "        validation_data=validation_generator,\n",
        "        validation_steps=nb_validation_samples // batch_size\n",
        "        )\n",
        "\n",
        "model.save_weights('first_try.h5')  "
      ],
      "metadata": {
        "colab": {
          "base_uri": "https://localhost:8080/"
        },
        "id": "4P_8jaBwzyfH",
        "outputId": "bbeda49d-bcf3-4406-c67d-3815f97a94f3"
      },
      "id": "4P_8jaBwzyfH",
      "execution_count": null,
      "outputs": [
        {
          "output_type": "stream",
          "name": "stdout",
          "text": [
            "Epoch 1/5\n",
            "125/125 [==============================] - 15s 118ms/step - loss: -214507824.0000 - accuracy: 0.1370 - val_loss: -578096064.0000 - val_accuracy: 0.1825\n",
            "Epoch 2/5\n",
            "125/125 [==============================] - 14s 114ms/step - loss: -2003340928.0000 - accuracy: 0.1605 - val_loss: -4200994304.0000 - val_accuracy: 0.1275\n",
            "Epoch 3/5\n",
            "125/125 [==============================] - 15s 117ms/step - loss: -8443093504.0000 - accuracy: 0.1550 - val_loss: -14637317120.0000 - val_accuracy: 0.1587\n",
            "Epoch 4/5\n",
            "125/125 [==============================] - 14s 112ms/step - loss: -26486697984.0000 - accuracy: 0.1581 - val_loss: -39455670272.0000 - val_accuracy: 0.1625\n",
            "Epoch 5/5\n",
            "125/125 [==============================] - 14s 111ms/step - loss: -64640176128.0000 - accuracy: 0.1530 - val_loss: -94855258112.0000 - val_accuracy: 0.1550\n"
          ]
        }
      ]
    }
  ],
  "metadata": {
    "colab": {
      "collapsed_sections": [
        "cmEQPzB4JLgt",
        "GwlHbfpL1JAH"
      ],
      "name": "dl-diabetic-retinopathy-model.ipynb",
      "provenance": [],
      "toc_visible": true,
      "include_colab_link": true
    },
    "gpuClass": "standard",
    "kernelspec": {
      "display_name": "Python 3 (deep_learning)",
      "language": "python",
      "name": "deep_learning"
    },
    "language_info": {
      "codemirror_mode": {
        "name": "ipython",
        "version": 3
      },
      "file_extension": ".py",
      "mimetype": "text/x-python",
      "name": "python",
      "nbconvert_exporter": "python",
      "pygments_lexer": "ipython3",
      "version": "3.8.12"
    },
    "accelerator": "GPU"
  },
  "nbformat": 4,
  "nbformat_minor": 5
}